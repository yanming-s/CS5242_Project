{
 "cells": [
  {
   "cell_type": "markdown",
   "id": "c125f493",
   "metadata": {},
   "source": [
    "## Sampling Strategies\n",
    "\n",
    "\n",
    "As we noticed that the data skewed heavily, we decided to use some sampling strategies to balance the dataset. The method we took included:\n",
    "\n",
    "1. **Original distribution sampling**: leveraging the multi-label stratified shuffle split functions provided by `iterstrat` library, we directly sampled the original distribution of the dataset. This sampling strategy is mainly used for verifying whether the skewed dataset will affect the model performance.\n",
    "\n",
    "2. **Round-robin sampling**: we sampled one instance from each label in a round-robin fashion until we reach the desired number of samples. When the number of samples of one label is expired, we will skip this label and continue sampling from the remaining labels. We used this method to try to sample the data samples as balanced as possible.\n",
    "\n",
    "3. **Rare-first sampling**: this method is used to sample the labels from the dataset in a rare-first manner. This means that we will sample the rarest label first. As the \"No Finding\" label samples take roughly 50% of the dataset, and belonged samples actually may not help the model to learn so much. Through this method, we hope the model can pay more attention to the rare labels.\n",
    "\n",
    "4. **Binary sampling**: as we want to leverage the generative models to do abnormality detection, we relabeled the dataset to binary labels. The samples with \"No Finding\" label are relabeled to 0, and the samples with other labels are relabeled to 1. This method is used to verify whether the generative models can learn the distribution of the normal samples.\n",
    "\n",
    "We trained the models with the above sampling strategies and evaluated the performance of the models on the test set, to compare the performance of different kinds of deep learning models, and how will the sampling strategies affect the model performance."
   ]
  },
  {
   "cell_type": "code",
   "execution_count": null,
   "id": "457918c1",
   "metadata": {},
   "outputs": [],
   "source": []
  }
 ],
 "metadata": {
  "kernelspec": {
   "display_name": "base",
   "language": "python",
   "name": "python3"
  },
  "language_info": {
   "name": "python",
   "version": "3.12.4"
  }
 },
 "nbformat": 4,
 "nbformat_minor": 5
}
